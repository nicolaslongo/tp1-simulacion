{
 "cells": [
  {
   "cell_type": "code",
   "execution_count": 26,
   "metadata": {},
   "outputs": [],
   "source": [
    "import numpy as np\n",
    "import matplotlib.pyplot as plt"
   ]
  },
  {
   "cell_type": "markdown",
   "metadata": {},
   "source": [
    "## a) Generadores de números al azar con distribución uniforme, provistos por el lenguaje elegido para resolver el tp"
   ]
  },
  {
   "cell_type": "code",
   "execution_count": 27,
   "metadata": {},
   "outputs": [],
   "source": [
    "MAX_POINT = 40"
   ]
  },
  {
   "cell_type": "code",
   "execution_count": 28,
   "metadata": {},
   "outputs": [],
   "source": [
    "p1 = [20 - np.sqrt(50), 20]\n",
    "p2 = [20, 20 - np.sqrt(50)]\n",
    "p3 = [20 + np.sqrt(50), 20]\n",
    "p4 = [20, 20 + np.sqrt(50)]"
   ]
  },
  {
   "cell_type": "code",
   "execution_count": 29,
   "metadata": {},
   "outputs": [],
   "source": [
    "def get_coefficients(point1, point2):\n",
    "    \"\"\"Calculo los coeficientes de la recta\"\"\"\n",
    "    a = (point2[1] - point1[1]) / (point2[0] - point1[0])\n",
    "    b = point1[1] - a * point1[0]    \n",
    "    return a, b"
   ]
  },
  {
   "cell_type": "code",
   "execution_count": 30,
   "metadata": {},
   "outputs": [],
   "source": [
    "def plot_lines():\n",
    "    def plot_line(point1, point2, n_points=100):\n",
    "        a, b = get_coefficients(point1, point2)\n",
    "        polynomial = lambda x: a * x + b\n",
    "        x_axis = np.linspace(0, MAX_POINT, n_points)\n",
    "        y_axis = polynomial(x_axis)\n",
    "        plt.plot(x_axis, y_axis)\n",
    "    \n",
    "    plot_line(p1, p4)\n",
    "    plot_line(p2, p3)\n",
    "    plot_line(p1, p2)\n",
    "    plot_line(p4, p3)"
   ]
  },
  {
   "cell_type": "code",
   "execution_count": 31,
   "metadata": {},
   "outputs": [],
   "source": [
    "def plot_points(n_points=10000):\n",
    "    def corte1(x, y):\n",
    "        a, b = get_coefficients(p1, p4)\n",
    "        return y < a*x + b\n",
    "    \n",
    "    def corte2(x, y):\n",
    "        a, b = get_coefficients(p2, p3)\n",
    "        return y > a*x + b\n",
    "    \n",
    "    def corte3(x, y):\n",
    "        a, b = get_coefficients(p1, p2)\n",
    "        return y > a*x + b\n",
    "    \n",
    "    def corte4(x, y):\n",
    "        a, b = get_coefficients(p4, p3)\n",
    "        return y < a*x + b\n",
    "    \n",
    "    x = [x*MAX_POINT for x in np.random.rand(n_points)]\n",
    "    y = [y*MAX_POINT for y in np.random.rand(n_points)]\n",
    "    X = []\n",
    "    Y = []\n",
    "    for i in range(n_points):\n",
    "        if corte1(x[i], y[i]) & corte2(x[i], y[i]) & corte3(x[i], y[i]) & corte4(x[i], y[i]):\n",
    "            X.append(x[i])\n",
    "            Y.append(y[i])\n",
    "    plt.scatter(X, Y)"
   ]
  },
  {
   "cell_type": "code",
   "execution_count": null,
   "metadata": {
    "scrolled": false
   },
   "outputs": [],
   "source": [
    "plt.figure(figsize=(12, 12))\n",
    "plt.plot( p1[0], p1[1], 'go', label='x1', color='b')\n",
    "plt.plot( p2[0], p2[1], 'go', label='x2', color='r')\n",
    "plt.plot( p3[0], p3[1], 'go', label='x3', color='g')\n",
    "plt.plot( p4[0], p4[1], 'go', label='x4', color='y')\n",
    "plot_lines()\n",
    "plot_points()\n",
    "plt.ylim( (0, MAX_POINT) ) \n",
    "plt.xlim( (0, MAX_POINT) )\n",
    "plt.grid('on')\n",
    "plt.legend()\n",
    "plt.show()"
   ]
  },
  {
   "cell_type": "code",
   "execution_count": null,
   "metadata": {},
   "outputs": [],
   "source": []
  },
  {
   "cell_type": "code",
   "execution_count": null,
   "metadata": {},
   "outputs": [],
   "source": []
  }
 ],
 "metadata": {
  "kernelspec": {
   "display_name": "Python 3",
   "language": "python",
   "name": "python3"
  }
 },
 "nbformat": 4,
 "nbformat_minor": 4
}
