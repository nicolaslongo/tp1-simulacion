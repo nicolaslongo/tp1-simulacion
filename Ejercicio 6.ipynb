{
 "cells": [
  {
   "cell_type": "markdown",
   "metadata": {
    "pycharm": {
     "name": "#%% md\n"
    }
   },
   "source": [
    "# Ejercicio 6\n",
    "Para simular una variable aletoria con distribución N(mu, sigma) se realizan los siguientes pasos:\n",
    "\n",
    "1) Se simula primero una variable |Z| donde Z es densidad N(0,1). <br>\n",
    "2) Luego se multiplica por -1 con probabilidad 0.5 para obtener los valores negativos simetricos. <br>\n",
    "3) Por último se multiplicará por sigma y se sumará mu. <br>\n",
    "\n",
    "Se usa fy con distribución EXP(1).\n",
    "\n",
    "La constante C se calcula de manera teorica y da un valor aproximado de 1.32\n",
    "\n",
    "Para encontrarla se siguieron los pasos:\n",
    "<br>\n",
    "1) Se calcula máximo de fx / fy <br>\n",
    "   (Al usar fy = EXP(1). El máximo ocurre al maximizar\n",
    "   el exponente.)\n",
    "<br>\n",
    "2) C = fx(maximo) / fy(maximo)\n"
   ]
  },
  {
   "cell_type": "code",
   "execution_count": 30,
   "outputs": [
    {
     "data": {
      "text/plain": "<Figure size 432x288 with 1 Axes>",
      "image/png": "[encoded data removed]"
     },
     "metadata": {
      "needs_background": "light"
     },
     "output_type": "display_data"
    },
    {
     "data": {
      "text/plain": "<Figure size 432x288 with 1 Axes>",
      "image/png": "[encoded data removed]"
     },
     "metadata": {
      "needs_background": "light"
     },
     "output_type": "display_data"
    }
   ],
   "source": [
    "import random\n",
    "from scipy.stats import norm\n",
    "from statistics import mean, variance\n",
    "from math import exp, sqrt\n",
    "from matplotlib import pyplot as plt\n",
    "\n",
    "def normal(x, media=0, desvio=1):\n",
    "    return norm.pdf(x, loc=media, scale=desvio)\n",
    "\n",
    "def exponencial(x, lambd=1):\n",
    "    return lambd * exp(-lambd * x)\n",
    "\n",
    "def generar_distribucion_normal(media, desvio):\n",
    "    resultado = []\n",
    "    for i in range(0, N):\n",
    "        r1 = random.expovariate(lambd=1)\n",
    "        fx = normal(x=r1, media=0, desvio=1)\n",
    "        r2 = random.random()\n",
    "        if r2 < fx / c:\n",
    "            signo = 1\n",
    "            r3 = random.random()\n",
    "            if r3 >= 0.5:\n",
    "                signo = -1\n",
    "            resultado.append(r1 * signo * desvio + media)\n",
    "    return resultado\n",
    "\n",
    "\n",
    "N = 10**4\n",
    "c = 1.32\n",
    "\n",
    "normal1 = generar_distribucion_normal(media=10, desvio=2)\n",
    "plt.hist(normal1, bins=1000, density=True)\n",
    "plt.show()\n",
    "\n",
    "normal2 = generar_distribucion_normal(media=20, desvio=15)\n",
    "plt.hist(normal2, bins=1000, density=True)\n",
    "plt.show()"
   ],
   "metadata": {
    "collapsed": false,
    "pycharm": {
     "name": "#%%\n"
    }
   }
  },
  {
   "cell_type": "markdown",
   "source": [
    "Calculo media y varianza de las distribuciones obtenidas"
   ],
   "metadata": {
    "collapsed": false
   }
  },
  {
   "cell_type": "code",
   "execution_count": 31,
   "outputs": [
    {
     "data": {
      "text/plain": "(9.912731079767674, 1.871793281858666)"
     },
     "execution_count": 31,
     "metadata": {},
     "output_type": "execute_result"
    }
   ],
   "source": [
    "normal1_media = mean(normal1)\n",
    "normal1_varianza = variance(normal1, normal1_media)\n",
    "normal1_media, normal1_varianza"
   ],
   "metadata": {
    "collapsed": false,
    "pycharm": {
     "name": "#%%\n"
    }
   }
  },
  {
   "cell_type": "code",
   "execution_count": 32,
   "outputs": [
    {
     "data": {
      "text/plain": "(20.053911653706713, 105.72081029244801)"
     },
     "execution_count": 32,
     "metadata": {},
     "output_type": "execute_result"
    }
   ],
   "source": [
    "normal2_media = mean(normal2)\n",
    "normal2_varianza = variance(normal2, normal2_media)\n",
    "normal2_media, normal2_varianza"
   ],
   "metadata": {
    "collapsed": false,
    "pycharm": {
     "name": "#%%\n"
    }
   }
  },
  {
   "cell_type": "markdown",
   "source": [
    "Con las distribuciones normales creadas creo una nueva distribucion bivariada"
   ],
   "metadata": {
    "collapsed": false,
    "pycharm": {
     "name": "#%% md\n"
    }
   }
  },
  {
   "cell_type": "code",
   "execution_count": 32,
   "outputs": [],
   "source": [],
   "metadata": {
    "collapsed": false,
    "pycharm": {
     "name": "#%%"
    }
   }
  }
 ],
 "metadata": {
  "kernelspec": {
   "display_name": "Python 3",
   "language": "python",
   "name": "python3"
  },
  "language_info": {
   "codemirror_mode": {
    "name": "ipython",
    "version": 3
   },
   "file_extension": ".py",
   "mimetype": "text/x-python",
   "name": "python",
   "nbconvert_exporter": "python",
   "pygments_lexer": "ipython3",
   "version": "3.8.5"
  }
 },
 "nbformat": 4,
 "nbformat_minor": 4
}