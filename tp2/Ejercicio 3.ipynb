{
 "cells": [
  {
   "attachments": {
    "imagen.png": {
     "image/png": "[encoded data removed]"
    }
   },
   "cell_type": "markdown",
   "metadata": {},
   "source": [
    "# Ejercicio 3\n",
    "\n",
    "Tal y como se determinó en el enunciado, la cantidad máxima de clientes en simultáneo es de 50. Por lo tanto, tenemos un total de 51 estados: del 1 al 51. En el instante t, la cantidad de gente conectada más uno será nuestro estado iésimo.\n",
    "\n",
    "De ésta forma, armar la matriz de transición es algo trivial ya que la P de que el home banking pase del estado i al j está dada por la fórmula P(i->j)\n",
    "\n",
    "    M = | P(1->1)  P(1->2)   P(1->3)   P(1->4)   ...   P(1->51)      |\n",
    "        | P(2->1)  P(2->2)   P(2->3)   P(2->4)   ...   P(2->51)      |\n",
    "        | P(3->1)  P(3->2)   P(3->3)   P(3->4)   ...   P(3->51)      |\n",
    "        |  ....     ....      ....      ....     ...    ....         |\n",
    "        | P(51->1)  P(51->2)   P(51->3)   P(51->4)   ...   P(51->51) |\n",
    "        \n",
    "Adonde P(i->j) es\n",
    "\n",
    "![imagen.png](attachment:imagen.png)"
   ]
  },
  {
   "cell_type": "code",
   "execution_count": 16,
   "metadata": {},
   "outputs": [],
   "source": [
    "from math import factorial\n",
    "\n",
    "class HomeBanking():\n",
    "    \n",
    "    def __init__(self):\n",
    "        self.estado_actual = 1\n",
    "        self.estados = []\n",
    "        \n",
    "    def calcular_matriz(self):\n",
    "        def P(i, j):\n",
    "            p = 0.7\n",
    "            n = 51\n",
    "            if j >= i:\n",
    "                comb = ( factorial(n) / factorial(n-(j-i)) ) / (factorial(j-i))\n",
    "                res1 = comb * p**(j-i) * (1-p)**(n-(j-i))\n",
    "                return res1\n",
    "\n",
    "            # j < i\n",
    "            suma = 0\n",
    "            for x in range(i, n):\n",
    "                suma += P(i, x)\n",
    "\n",
    "            res2 = (1 - suma) / (i-1)\n",
    "            return res2\n",
    "\n",
    "        M = [[P(i, j) for j in range(1, 52)] for i in range(1, 52)]\n",
    "        self.matriz = M\n",
    "        return self.matriz\n",
    "    \n",
    "    def simular_n_observaciones(self, n):\n",
    "        self.estados = []\n",
    "        for i in range(0, n):\n",
    "            pass\n",
    "        \n",
    "hb = HomeBanking()\n",
    "M = hb.calcular_matriz()"
   ]
  },
  {
   "cell_type": "markdown",
   "metadata": {},
   "source": [
    "Como primera medida, trataremos de determinar la matriz de transición, para lo que necesitaremos evaluar los autovalores de M. Según su valor vamos a poder ver si M^(n) converge"
   ]
  },
  {
   "cell_type": "code",
   "execution_count": 19,
   "metadata": {},
   "outputs": [
    {
     "name": "stdout",
     "output_type": "stream",
     "text": [
      "Este falla (1.0197614687852017+0j)\n"
     ]
    }
   ],
   "source": [
    "import numpy as np\n",
    "eigenvalues, eigenvectors = np.linalg.eig(M)\n",
    "for e in eigenvalues:\n",
    "    if abs(e) > 1:\n",
    "        print('Este falla {0}'.format(e))"
   ]
  },
  {
   "cell_type": "markdown",
   "metadata": {},
   "source": [
    "Ahora lo que sucede es que como hay uno cuyo modulo es mayor que 1 deberíamos decir que no converge con N-> inf...\n",
    "\n",
    "Obviamente no es lo que vamos a decir, de hecho podemos probarlo y después vemos qué pasa"
   ]
  },
  {
   "cell_type": "code",
   "execution_count": 22,
   "metadata": {},
   "outputs": [
    {
     "data": {
      "text/plain": [
       "array([[0.15933146, 0.15933096, 0.15932909, ..., 0.14675865, 0.1399951 ,\n",
       "        0.13299797],\n",
       "       [0.1592467 , 0.1592462 , 0.15924433, ..., 0.14668058, 0.13992063,\n",
       "        0.13292722],\n",
       "       [0.15916679, 0.15916629, 0.15916442, ..., 0.14660698, 0.13985041,\n",
       "        0.13286052],\n",
       "       ...,\n",
       "       [0.16154757, 0.16154705, 0.16154516, ..., 0.14879989, 0.14194226,\n",
       "        0.13484781],\n",
       "       [0.16148368, 0.16148317, 0.16148127, ..., 0.14874104, 0.14188613,\n",
       "        0.13479448],\n",
       "       [0.16142109, 0.16142058, 0.16141869, ..., 0.14868339, 0.14183113,\n",
       "        0.13474224]])"
      ]
     },
     "execution_count": 22,
     "metadata": {},
     "output_type": "execute_result"
    }
   ],
   "source": [
    "M_n = np.linalg.matrix_power(M, 100)\n",
    "M_n"
   ]
  },
  {
   "cell_type": "markdown",
   "metadata": {},
   "source": [
    "## b) SIimulación de 100 observaciones. Cómo se modifica la cantidad de clientes conectados"
   ]
  }
 ],
 "metadata": {
  "kernelspec": {
   "display_name": "Python 3",
   "language": "python",
   "name": "python3"
  },
  "language_info": {
   "codemirror_mode": {
    "name": "ipython",
    "version": 3
   },
   "file_extension": ".py",
   "mimetype": "text/x-python",
   "name": "python",
   "nbconvert_exporter": "python",
   "pygments_lexer": "ipython3",
   "version": "3.8.5"
  }
 },
 "nbformat": 4,
 "nbformat_minor": 4
}
