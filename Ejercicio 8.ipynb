{
 "cells": [
  {
   "cell_type": "code",
   "execution_count": 1,
   "metadata": {},
   "outputs": [],
   "source": [
    "import matplotlib.pyplot as plt\n",
    "import matplotlib.animation as animation\n",
    "import numpy as np\n",
    "import random"
   ]
  },
  {
   "cell_type": "code",
   "execution_count": 11,
   "metadata": {},
   "outputs": [],
   "source": [
    "STEPS = 50\n",
    "RANGE = 250\n",
    "N_PERSONAS = 10"
   ]
  },
  {
   "cell_type": "code",
   "execution_count": 12,
   "metadata": {},
   "outputs": [],
   "source": [
    "class Persona:\n",
    "    q_persona = 0\n",
    "    \n",
    "    def __init__(self, x_init, y_init, tablero, verbose=False):\n",
    "        self.numero = Persona.q_persona\n",
    "        Persona.q_persona += 1\n",
    "        self.tablero = tablero\n",
    "        self.x = x_init\n",
    "        self.y = y_init\n",
    "        self.verbose = verbose\n",
    "        \n",
    "    def get_position(self):\n",
    "        return self.x, self.y\n",
    "        \n",
    "    def step_normal(self):\n",
    "        movimientos = self.tablero.get_movimientos_posibles(self.x, self.y)\n",
    "        idx = np.argmax(np.random.uniform(0, 0.4, len(movimientos)))\n",
    "        self.x, self.y = movimientos[idx]\n",
    "        if self.verbose:\n",
    "            print(\"({}) Posicion x: {}\".format(self.numero, self.x))\n",
    "            print(\"({}) Posicion y: {}\".format(self.numero, self.y))\n",
    "        return self.x, self.y\n",
    "        \n",
    "class Tablero:\n",
    "    \n",
    "    def __init__(self, n_dim, n_personas, verbose=False):\n",
    "        self.verbose = verbose\n",
    "        self.dim = n_dim\n",
    "        self.personas = self.__init_personas(n_personas)\n",
    "\n",
    "    \n",
    "    def __init_personas(self, n_personas):\n",
    "        def get_init_positions(n_persons):\n",
    "            indexes = [(i, j) for i in range(0, self.dim) for j in range(0, self.dim)]\n",
    "            random.shuffle(indexes)\n",
    "            return indexes[:n_persons]\n",
    "        \n",
    "        def generate_persons(pos):\n",
    "            persons = []\n",
    "            n = np.random.rand(len(pos))\n",
    "            for (x_init, y_init), ni in zip(pos, n):\n",
    "                if ni <= 0.1:\n",
    "                    persons.append(PersonaC(x_init, y_init, self, self.verbose))\n",
    "                elif ni > 0.1 and ni <= 0.3:\n",
    "                    persons.append(PersonaB(x_init, y_init, self, self.verbose))\n",
    "                else:\n",
    "                    persons.append(PersonaA(x_init, y_init, self, self.verbose))\n",
    "            return persons\n",
    "        \n",
    "        init_positions = get_init_positions(n_personas)\n",
    "        return generate_persons(init_positions)\n",
    "        \n",
    "    def get_movimientos_posibles(self, x, y):\n",
    "        movs = [(x+1, y), (x-1, y), (x, y+1), (x, y-1)]\n",
    "        actual_positions = [p.get_position() for p in self.personas]\n",
    "        possible_movs = set(movs) - set(actual_positions)\n",
    "        return list(possible_movs)\n",
    "    \n",
    "    def siguiente_ronda(self):\n",
    "        for p in self.personas:\n",
    "            p.step()\n",
    "        return self.personas"
   ]
  },
  {
   "cell_type": "code",
   "execution_count": 13,
   "metadata": {},
   "outputs": [],
   "source": [
    "class PersonaC(Persona):\n",
    "    def __init__(self, x_inicial, y_inicial, tablero, verbose=False):\n",
    "        super().__init__(x_inicial, y_inicial, tablero, verbose)\n",
    "        self.tipo = 'C'\n",
    "        self.hex_color = '#49111C'\n",
    "        self.puede_moverse = True\n",
    "        \n",
    "    def step(self):\n",
    "        if self.puede_moverse:\n",
    "            return self.step_normal()\n",
    "        return self.x, self.y\n",
    "    \n",
    "class PersonaB(Persona):\n",
    "    def __init__(self, x_inicial, y_inicial, tablero, verbose=False):\n",
    "        super().__init__(x_inicial, y_inicial, tablero, verbose)\n",
    "        self.tipo = 'B'\n",
    "        self.hex_color = '#FF5A5F'\n",
    "        self.puede_moverse = True\n",
    "    \n",
    "    def step(self):\n",
    "        if self.puede_moverse:\n",
    "            return self.step_normal()\n",
    "        return self.x, self.y\n",
    "    \n",
    "class PersonaA(Persona):\n",
    "    def __init__(self, x_inicial, y_inicial, tablero, verbose=False):\n",
    "        super().__init__(x_inicial, y_inicial, tablero, verbose)\n",
    "        self.tipo = 'A'\n",
    "        self.hex_color = '#BFD7EA'\n",
    "        self.puede_moverse = True\n",
    "        \n",
    "    def step(self):\n",
    "        if self.puede_moverse:\n",
    "            return self.step_normal()\n",
    "        return self.x, self.y"
   ]
  },
  {
   "cell_type": "code",
   "execution_count": 14,
   "metadata": {},
   "outputs": [],
   "source": [
    "def animate_n_persons(n_persons, lines, pos, verbose=False):\n",
    "    assert n_persons == len(lines)\n",
    "    assert n_persons == len(pos)\n",
    "    persons = generate_persons(pos, verbose)\n",
    "    def animate_persons(i):\n",
    "        new_lines = []\n",
    "        for person, line in zip(persons, lines):\n",
    "            x, y = next(person)\n",
    "            #line.set_data(person.recorrido_x, person.recorrido_y)\n",
    "            line.set_data([x], [y])\n",
    "            line.set_color(person.hex_color)\n",
    "            new_lines.append(line)\n",
    "        return new_lines\n",
    "    return animate_persons"
   ]
  },
  {
   "cell_type": "code",
   "execution_count": 15,
   "metadata": {},
   "outputs": [],
   "source": [
    "def animate_persons(n_step, tablero, lines):\n",
    "    new_lines = []\n",
    "    persons = tablero.siguiente_ronda()\n",
    "    for person, line in zip(persons, lines):\n",
    "        x, y = person.get_position()\n",
    "        line.set_data([x], [y])\n",
    "        line.set_color(person.hex_color)\n",
    "        new_lines.append(line)\n",
    "    return new_lines"
   ]
  },
  {
   "cell_type": "code",
   "execution_count": 16,
   "metadata": {},
   "outputs": [],
   "source": [
    "def gen_lines(ax, n_personas):\n",
    "    cmap = plt.cm.get_cmap('hsv', n_personas)\n",
    "    #lines = [ax.plot([], [], lw=2, color=cmap(n))[0] for n in range(n_personas)]\n",
    "    #lines = [ax.plot([], [], marker='o', c=cmap(n))[0] for n in range(n_personas)]\n",
    "    lines = [ax.plot([], [], marker='o')[0] for n in range(n_personas)]\n",
    "    return lines"
   ]
  },
  {
   "cell_type": "code",
   "execution_count": 18,
   "metadata": {
    "scrolled": false
   },
   "outputs": [
    {
     "data": {
      "text/plain": [
       "'random walk saved'"
      ]
     },
     "execution_count": 18,
     "metadata": {},
     "output_type": "execute_result"
    }
   ],
   "source": [
    "#Set up ax\n",
    "fig = plt.figure(figsize=(21, 10))\n",
    "ax = plt.axes(xlim=(0, RANGE), ylim=(0, RANGE)) \n",
    "lines = gen_lines(ax, N_PERSONAS)\n",
    "ax.set_title('2D Random Walk', fontsize=22)\n",
    "ax.set_xlabel('Steps', fontsize=18)\n",
    "ax.set_ylabel('Value', fontsize=18)\n",
    "ax.tick_params(labelsize=16)\n",
    "ax.grid(True, which='major', linestyle='--', color='black', alpha=0.4)\n",
    "\n",
    "#Set up tablero\n",
    "tablero = Tablero(RANGE, N_PERSONAS)\n",
    "\n",
    "# call the animator\t \n",
    "anim = animation.FuncAnimation(fig, animate_persons, fargs = (tablero, lines),\n",
    "                               frames=STEPS, interval=295, blit=True)\n",
    "\n",
    "anim.save('readomwalk.mp4')\n",
    "plt.close()\n",
    "\"random walk saved\""
   ]
  },
  {
   "cell_type": "code",
   "execution_count": null,
   "metadata": {},
   "outputs": [],
   "source": []
  },
  {
   "cell_type": "code",
   "execution_count": null,
   "metadata": {},
   "outputs": [],
   "source": []
  }
 ],
 "metadata": {
  "kernelspec": {
   "display_name": "Python 3",
   "language": "python",
   "name": "python3"
  },
  "language_info": {
   "codemirror_mode": {
    "name": "ipython",
    "version": 3
   },
   "file_extension": ".py",
   "mimetype": "text/x-python",
   "name": "python",
   "nbconvert_exporter": "python",
   "pygments_lexer": "ipython3",
   "version": "3.6.8"
  }
 },
 "nbformat": 4,
 "nbformat_minor": 4
}
