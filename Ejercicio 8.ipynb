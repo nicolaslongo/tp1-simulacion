{
 "cells": [
  {
   "cell_type": "code",
   "execution_count": 304,
   "metadata": {},
   "outputs": [],
   "source": [
    "import matplotlib.pyplot as plt\n",
    "import matplotlib.animation as animation\n",
    "import numpy as np\n",
    "import random"
   ]
  },
  {
   "cell_type": "code",
   "execution_count": 305,
   "metadata": {},
   "outputs": [],
   "source": [
    "STEPS = 50\n",
    "RANGE = 250\n",
    "N_PERSONAS = 1000"
   ]
  },
  {
   "cell_type": "code",
   "execution_count": 306,
   "metadata": {},
   "outputs": [],
   "source": [
    "class Persona:\n",
    "    \"\"\"Iterador para simular el random_walk de una persona.\"\"\"\n",
    "    q_persona = 0\n",
    "    p_contagio = 0.65\n",
    "    \n",
    "    def __init__(self, x_inicial, y_inicial, esta_enfermo, verbose=False):\n",
    "        self.recorrido_x = []\n",
    "        self.recorrido_y = []\n",
    "        self.steps = -1\n",
    "        self.next_x = x_inicial\n",
    "        self.next_y = y_inicial\n",
    "        self.factor = 2\n",
    "        self.verbose = verbose\n",
    "        self.numero = Persona.q_persona\n",
    "        Persona.q_persona += 1\n",
    "        \n",
    "    def __iter__(self):\n",
    "        return self\n",
    "    \n",
    "    def __next_step(self):\n",
    "        \"\"\"Esta funcion deberia calcular bien el step aleatorio\"\"\"\n",
    "        r = np.random.uniform(0, 0.4, 2)\n",
    "#         print(\"Factor es {0}\".format(self.factor))\n",
    "        if r[0] <= 0.2:\n",
    "            return r[1] * self.factor\n",
    "        else:\n",
    "            return -r[1] * self.factor\n",
    "\n",
    "    def __next__(self):\n",
    "        self.recorrido_x.append(self.next_x)\n",
    "        self.recorrido_y.append(self.next_y)\n",
    "        x_old = self.next_x \n",
    "        y_old = self.next_y\n",
    "        self.next_x += self.__next_step()\n",
    "        self.next_y += self.__next_step()\n",
    "        self.steps += 1\n",
    "        if self.verbose:\n",
    "            print(\"({}) Posicion x: {}\".format(self.numero, x_old))\n",
    "            print(\"({}) Posicion y: {}\".format(self.numero, y_old))\n",
    "        return x_old, y_old\n",
    "    \n",
    "    def set_factor(self, x):\n",
    "        self.factor = x"
   ]
  },
  {
   "cell_type": "code",
   "execution_count": 307,
   "metadata": {},
   "outputs": [],
   "source": [
    "class PersonaC(Persona):\n",
    "    def __init__(self, x_inicial, y_inicial, verbose=False):\n",
    "        super().__init__(x_inicial, y_inicial, verbose)\n",
    "        self.tipo = 'C'\n",
    "        self.hex_color = '#49111C'\n",
    "        self.set_factor(4)\n",
    "    \n",
    "class PersonaB(Persona):\n",
    "    def __init__(self, x_inicial, y_inicial, verbose=False):\n",
    "        super().__init__(x_inicial, y_inicial, verbose)\n",
    "        self.tipo = 'B'\n",
    "        self.hex_color = '#FF5A5F'\n",
    "        self.set_factor(2)\n",
    "    \n",
    "class PersonaA(Persona):\n",
    "    def __init__(self, x_inicial, y_inicial, verbose=False):\n",
    "        super().__init__(x_inicial, y_inicial, verbose)\n",
    "        self.tipo = 'A'\n",
    "        self.hex_color = '#BFD7EA'\n",
    "        self.set_factor(1)"
   ]
  },
  {
   "cell_type": "code",
   "execution_count": 308,
   "metadata": {},
   "outputs": [
    {
     "name": "stdout",
     "output_type": "stream",
     "text": [
      "(0) Posicion x: 0\n",
      "(0) Posicion y: 0\n",
      "(0) Posicion x: -0.4386618755039988\n",
      "(0) Posicion y: 0.9386560916426767\n"
     ]
    },
    {
     "data": {
      "text/plain": [
       "(-0.4386618755039988, 0.9386560916426767)"
      ]
     },
     "execution_count": 308,
     "metadata": {},
     "output_type": "execute_result"
    }
   ],
   "source": [
    "persona = PersonaC(0, 0, verbose=True)\n",
    "next(persona)\n",
    "next(persona)"
   ]
  },
  {
   "cell_type": "code",
   "execution_count": 309,
   "metadata": {},
   "outputs": [],
   "source": [
    "# def random_walk(posicion_inicial, n_steps):\n",
    "#     pos = posicion_inicial\n",
    "#     for i in range(0, n_steps):\n",
    "#         pos = (pos[0] + np.random.rand() * 5, pos[1] + np.random.rand() * 5)\n",
    "#         yield pos"
   ]
  },
  {
   "cell_type": "code",
   "execution_count": 310,
   "metadata": {},
   "outputs": [],
   "source": [
    "# def animate_person(x_init, y_init, line, verbose=False):\n",
    "#     persona = Persona(x_init, y_init, verbose)\n",
    "#     def animate(i):\n",
    "#         \"\"\"Animation function\"\"\"\n",
    "#         # appending new points to x, y axes points list\n",
    "#         next(persona)\n",
    "#         line.set_data(persona.recorrido_x, persona.recorrido_y)\n",
    "#         return line,\n",
    "#     return animate"
   ]
  },
  {
   "cell_type": "code",
   "execution_count": 316,
   "metadata": {},
   "outputs": [],
   "source": [
    "def generate_persons(pos, verbose):\n",
    "    persons = []\n",
    "    n = np.random.rand(len(pos))\n",
    "    for (x_init, y_init), ni in zip(pos, n):\n",
    "        if ni <= 0.1:\n",
    "            persons.append(PersonaC(x_init, y_init, verbose))\n",
    "        elif ni > 0.1 and ni <= 0.3:\n",
    "            persons.append(PersonaB(x_init, y_init, verbose))\n",
    "        else:\n",
    "            persons.append(PersonaA(x_init, y_init, verbose))\n",
    "    return persons\n",
    "\n",
    "def animate_n_persons(n_persons, lines, pos, verbose=False):\n",
    "    assert n_persons == len(lines)\n",
    "    assert n_persons == len(pos)\n",
    "    persons = generate_persons(pos, verbose)\n",
    "    def animate_persons(i):\n",
    "        new_lines = []\n",
    "        for person, line in zip(persons, lines):\n",
    "            x, y = next(person)\n",
    "            #line.set_data(person.recorrido_x, person.recorrido_y)\n",
    "            line.set_data([x], [y])\n",
    "            line.set_color(person.hex_color)\n",
    "            new_lines.append(line)\n",
    "        return new_lines\n",
    "    return animate_persons"
   ]
  },
  {
   "cell_type": "code",
   "execution_count": 317,
   "metadata": {},
   "outputs": [],
   "source": [
    "def gen_lines(ax, n_personas):\n",
    "    cmap = plt.cm.get_cmap('hsv', n_personas)\n",
    "    #lines = [ax.plot([], [], lw=2, color=cmap(n))[0] for n in range(n_personas)]\n",
    "    #lines = [ax.plot([], [], marker='o', c=cmap(n))[0] for n in range(n_personas)]\n",
    "    lines = [ax.plot([], [], marker='o')[0] for n in range(n_personas)]\n",
    "    return lines"
   ]
  },
  {
   "cell_type": "code",
   "execution_count": 321,
   "metadata": {},
   "outputs": [
    {
     "name": "stdout",
     "output_type": "stream",
     "text": [
      "Ok, y en este caso N es 1000\n"
     ]
    }
   ],
   "source": [
    "indexes = [(i, j) for i in range(0, RANGE) for j in range(0, RANGE)]\n",
    "random.shuffle(indexes)\n",
    "init_positions = indexes[:N_PERSONAS]\n",
    "print(\"Ok, y en este caso N es {0}\".format(len(init_positions)))"
   ]
  },
  {
   "cell_type": "code",
   "execution_count": 322,
   "metadata": {},
   "outputs": [],
   "source": [
    "# plt.figure(figsize=(15, 15), dpi=80)\n",
    "# plt.title('{0} personas'.format(N_PERSONAS), size=20)\n",
    "\n",
    "# for tipo, color in {'A': '#BFD7EA', 'B': '#FF5A5F', 'C': '#49111C'}.items():\n",
    "#     X = [p.next_x for p in P if p.tipo == tipo]\n",
    "#     Y = [p.next_y for p in P if p.tipo == tipo]\n",
    "#     plt.scatter(X, Y, color=color)\n",
    "# plt.show()"
   ]
  },
  {
   "cell_type": "code",
   "execution_count": 323,
   "metadata": {
    "scrolled": false
   },
   "outputs": [
    {
     "name": "stdout",
     "output_type": "stream",
     "text": [
      "1000\n"
     ]
    },
    {
     "data": {
      "text/plain": [
       "'random walk saved'"
      ]
     },
     "execution_count": 323,
     "metadata": {},
     "output_type": "execute_result"
    }
   ],
   "source": [
    "#Set up ax\n",
    "fig = plt.figure(figsize=(21, 10))\n",
    "ax = plt.axes(xlim=(0, RANGE*0.4), ylim=(0, RANGE*0.4)) \n",
    "#ax.set_xticks(np.arange(0, STEPS+1, 50))\n",
    "#ax.set_yticks(np.arange(np.min(persona_1) - 0.5, np.max(persona_1) + 0.5, 0.2))\n",
    "lines = gen_lines(ax, N_PERSONAS)\n",
    "ax.set_title('2D Random Walk', fontsize=22)\n",
    "ax.set_xlabel('Steps', fontsize=18)\n",
    "ax.set_ylabel('Value', fontsize=18)\n",
    "ax.tick_params(labelsize=16)\n",
    "ax.grid(True, which='major', linestyle='--', color='black', alpha=0.4)\n",
    "\n",
    "# Set up formatting for the movie files\n",
    "Writer = animation.writers['ffmpeg']\n",
    "writer = Writer(fps=60, metadata=dict(artist='Me'), bitrate=1800)\n",
    "\n",
    "# call the animator\t \n",
    "anim = animation.FuncAnimation(fig, animate_n_persons(N_PERSONAS, lines, init_positions, False),\n",
    "                               frames=STEPS, interval=295, blit=True)\n",
    "#anim.save('random_walk.gif',writer='imagemagick')\n",
    "anim.save('readomwalk.mp4')\n",
    "plt.close()\n",
    "\"random walk saved\""
   ]
  }
 ],
 "metadata": {
  "kernelspec": {
   "display_name": "Python 3",
   "language": "python",
   "name": "python3"
  },
  "language_info": {
   "codemirror_mode": {
    "name": "ipython",
    "version": 3
   },
   "file_extension": ".py",
   "mimetype": "text/x-python",
   "name": "python",
   "nbconvert_exporter": "python",
   "pygments_lexer": "ipython3",
   "version": "3.8.5"
  }
 },
 "nbformat": 4,
 "nbformat_minor": 4
}
