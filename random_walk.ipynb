{
 "cells": [
  {
   "cell_type": "code",
   "execution_count": 1,
   "metadata": {},
   "outputs": [],
   "source": [
    "import matplotlib.pyplot as plt\n",
    "import matplotlib.animation as animation\n",
    "import numpy as np"
   ]
  },
  {
   "cell_type": "code",
   "execution_count": 64,
   "metadata": {},
   "outputs": [],
   "source": [
    "N_PERSONAS = 10\n",
    "STEPS = 100\n",
    "init_positions = [(0, 0) for p in range(N_PERSONAS)]"
   ]
  },
  {
   "cell_type": "code",
   "execution_count": 65,
   "metadata": {},
   "outputs": [],
   "source": [
    "class Persona:\n",
    "    \"\"\"Iterador para simular el random_walk de una persona.\"\"\"\n",
    "    q_persona = 0\n",
    "    \n",
    "    def __init__(self, x_inicial, y_inicial, verbose=False):\n",
    "        self.recorrido_x = []\n",
    "        self.recorrido_y = []\n",
    "        self.steps = -1\n",
    "        self.next_x = x_inicial\n",
    "        self.next_y = y_inicial\n",
    "        self.factor = 5\n",
    "        self.verbose = verbose\n",
    "        self.numero = Persona.q_persona\n",
    "        Persona.q_persona += 1\n",
    "        \n",
    "    def __iter__(self):\n",
    "        return self\n",
    "    \n",
    "    def __next_step(self):\n",
    "        \"\"\"Esta funcion deberia calcular bien el step aleatorio\"\"\"\n",
    "        return np.random.rand() * self.factor\n",
    "\n",
    "    def __next__(self):\n",
    "        self.recorrido_x.append(self.next_x)\n",
    "        self.recorrido_y.append(self.next_y)\n",
    "        x_old = self.next_x \n",
    "        y_old = self.next_y\n",
    "        self.next_x += self.__next_step()\n",
    "        self.next_y += self.__next_step()\n",
    "        self.steps += 1\n",
    "        if self.verbose:\n",
    "            print(\"({}) Posicion x: {}\".format(self.numero, x_old))\n",
    "            print(\"({}) Posicion y: {}\".format(self.numero, y_old))\n",
    "        return x_old, y_old"
   ]
  },
  {
   "cell_type": "code",
   "execution_count": 66,
   "metadata": {},
   "outputs": [
    {
     "name": "stdout",
     "output_type": "stream",
     "text": [
      "(0) Posicion x: 0\n",
      "(0) Posicion y: 0\n",
      "(0) Posicion x: 0.6200717927022442\n",
      "(0) Posicion y: 4.198408775455464\n"
     ]
    },
    {
     "data": {
      "text/plain": [
       "(0.6200717927022442, 4.198408775455464)"
      ]
     },
     "execution_count": 66,
     "metadata": {},
     "output_type": "execute_result"
    }
   ],
   "source": [
    "persona = Persona(0, 0, verbose=True)\n",
    "next(persona)\n",
    "next(persona)"
   ]
  },
  {
   "cell_type": "code",
   "execution_count": 67,
   "metadata": {},
   "outputs": [],
   "source": [
    "def random_walk(posicion_inicial, n_steps):\n",
    "    pos = posicion_inicial\n",
    "    for i in range(0, n_steps):\n",
    "        pos = (pos[0] + np.random.rand() * 5, pos[1] + np.random.rand() * 5)\n",
    "        yield pos"
   ]
  },
  {
   "cell_type": "code",
   "execution_count": 68,
   "metadata": {},
   "outputs": [],
   "source": [
    "def animate_person(x_init, y_init, line, verbose=False):\n",
    "    persona = Persona(x_init, y_init, verbose)\n",
    "    def animate(i):\n",
    "        \"\"\"Animation function\"\"\"\n",
    "        # appending new points to x, y axes points list\n",
    "        next(persona)\n",
    "        line.set_data(persona.recorrido_x, persona.recorrido_y)\n",
    "        return line,\n",
    "    return animate"
   ]
  },
  {
   "cell_type": "code",
   "execution_count": 69,
   "metadata": {},
   "outputs": [],
   "source": [
    "def animate_n_persons(n_persons, lines, pos, verbose=False):\n",
    "    assert n_persons == len(lines)\n",
    "    assert n_persons == len(pos)\n",
    "    persons = [Persona(x_init, y_init, verbose) for x_init, y_init in pos]\n",
    "    def animate_persons(i):\n",
    "        new_lines = []\n",
    "        for person, line in zip(persons, lines):\n",
    "            x, y = next(person)\n",
    "            #line.set_data(person.recorrido_x, person.recorrido_y)\n",
    "            line.set_data([x], [y])\n",
    "            new_lines.append(line)\n",
    "        return new_lines\n",
    "    return animate_persons"
   ]
  },
  {
   "cell_type": "code",
   "execution_count": 70,
   "metadata": {},
   "outputs": [],
   "source": [
    "def gen_lines(ax, n_personas):\n",
    "    cmap = plt.cm.get_cmap('hsv', n_personas)\n",
    "    #lines = [ax.plot([], [], lw=2, color=cmap(n))[0] for n in range(n_personas)]\n",
    "    lines = [ax.plot([], [], marker='o', c=cmap(n))[0] for n in range(n_personas)]\n",
    "    return lines"
   ]
  },
  {
   "cell_type": "code",
   "execution_count": 63,
   "metadata": {
    "scrolled": false
   },
   "outputs": [
    {
     "data": {
      "text/plain": [
       "'random walk saved'"
      ]
     },
     "execution_count": 63,
     "metadata": {},
     "output_type": "execute_result"
    }
   ],
   "source": [
    "#Set up ax\n",
    "fig = plt.figure(figsize=(21, 10))\n",
    "ax = plt.axes(xlim=(0, STEPS), ylim=(0, 100)) \n",
    "#ax.set_xticks(np.arange(0, STEPS+1, 50))\n",
    "#ax.set_yticks(np.arange(np.min(persona_1) - 0.5, np.max(persona_1) + 0.5, 0.2))\n",
    "lines = gen_lines(ax, N_PERSONAS)\n",
    "ax.set_title('2D Random Walk', fontsize=22)\n",
    "ax.set_xlabel('Steps', fontsize=18)\n",
    "ax.set_ylabel('Value', fontsize=18)\n",
    "ax.tick_params(labelsize=16)\n",
    "ax.grid(True, which='major', linestyle='--', color='black', alpha=0.4)\n",
    "\n",
    "# Set up formatting for the movie files\n",
    "Writer = animation.writers['ffmpeg']\n",
    "writer = Writer(fps=60, metadata=dict(artist='Me'), bitrate=1800)\n",
    "\n",
    "# call the animator\t \n",
    "anim = animation.FuncAnimation(fig, animate_n_persons(N_PERSONAS, lines, init_positions, False), frames=STEPS, interval=295, blit=True)\n",
    "#anim.save('random_walk.gif',writer='imagemagick')\n",
    "anim.save('readomwalk.mp4')\n",
    "plt.close()\n",
    "\"random walk saved\""
   ]
  },
  {
   "cell_type": "code",
   "execution_count": null,
   "metadata": {},
   "outputs": [],
   "source": []
  }
 ],
 "metadata": {
  "kernelspec": {
   "display_name": "Python 3",
   "language": "python",
   "name": "python3"
  },
  "language_info": {
   "codemirror_mode": {
    "name": "ipython",
    "version": 3
   },
   "file_extension": ".py",
   "mimetype": "text/x-python",
   "name": "python",
   "nbconvert_exporter": "python",
   "pygments_lexer": "ipython3",
   "version": "3.6.8"
  }
 },
 "nbformat": 4,
 "nbformat_minor": 4
}
